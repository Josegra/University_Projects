{
 "cells": [
  {
   "cell_type": "markdown",
   "id": "4a2ee624",
   "metadata": {},
   "source": [
    "# Índice\n",
    "- [1. Importar todas las librerías necesarias (0.15 puntos)](#1)\n",
    "- [2. Inicializar algunas variables que después modificaremos (0.15 puntos)\n",
    "](#2)\n",
    "- [3. Crear una función para generar los hostnames en base a unas reglas\n",
    "(1.5 puntos)](#3)\n",
    "- [4.Crear una función para obtener el nombre del SO (0.5 puntos)\n",
    "](#4)\n",
    "- [5.Crear una función para obtener el nombre del entorno (0.5 puntos)\n",
    "](#5)\n",
    "- [6.Creamos una función para obtener el nombre del país (0.5 puntos)](#6)\n",
    "- [7.Crear una función para generar el DataFrame (1 punto)\n",
    "](#7)\n",
    "- [8.Crear el DataFrame (0.2 puntos)\n",
    "](#8)\n",
    "- [9.Guardar el DataFrame generado en un fichero CSV (0.5 puntos)\n",
    "](#9)\n",
    "- [10.Generar un único gráfico agrupando para cada país (country) los\n",
    "entornos (enviroment) (0.5 puntos)](#10)\n",
    "- [11..Crear una figura con 4 gráficos en una malla de 2 filas y 2 columnas (4.5\n",
    "puntos)](#11)\n",
    "    - [11.1.Figura 1 (Arriba izquierda)](#12)\n",
    "    - [11.2.Figura 2 (Abajo izquierda)](#13)\n",
    "    - [11.3.Figura 3 (Abajo derecha)](#14)\n",
    "    - [11.4.Figura 4 (Arriba derecha)](#15)\n",
    "    - [11.5.Figura completa todos los graficos juntos](#16)"
   ]
  },
  {
   "cell_type": "markdown",
   "id": "5177aabb",
   "metadata": {
    "ExecuteTime": {
     "end_time": "2023-03-09T18:30:05.424166Z",
     "start_time": "2023-03-09T18:30:05.415791Z"
    }
   },
   "source": [
    "## Importar las librerias necesarias\n",
    "<a id=\"1\"></a>"
   ]
  },
  {
   "cell_type": "code",
   "execution_count": 1,
   "id": "5a603da2",
   "metadata": {
    "ExecuteTime": {
     "end_time": "2023-03-12T18:50:16.580343Z",
     "start_time": "2023-03-12T18:50:14.710441Z"
    }
   },
   "outputs": [],
   "source": [
    "import matplotlib.pyplot as plt\n",
    "import pandas as pd\n",
    "import numpy as np\n",
    "import random\n",
    "import seaborn as sns # Libreria necesaria para el color en los graficos , sns.palette()"
   ]
  },
  {
   "cell_type": "markdown",
   "id": "5f6732a9",
   "metadata": {},
   "source": [
    "<a id=\"2\"></a>\n",
    "## Inicializar variables"
   ]
  },
  {
   "cell_type": "code",
   "execution_count": 2,
   "id": "34d67de7",
   "metadata": {
    "ExecuteTime": {
     "end_time": "2023-03-12T18:50:16.595547Z",
     "start_time": "2023-03-12T18:50:16.582407Z"
    }
   },
   "outputs": [],
   "source": [
    "df = None\n",
    "hostnames = []\n",
    "os = []\n",
    "dataset = []"
   ]
  },
  {
   "cell_type": "markdown",
   "id": "6d7d428d",
   "metadata": {},
   "source": [
    "<a id=\"3\"></a>\n",
    "## Crear funcion set_hostnames"
   ]
  },
  {
   "cell_type": "code",
   "execution_count": 3,
   "id": "df810ddc",
   "metadata": {
    "ExecuteTime": {
     "end_time": "2023-03-12T18:50:16.610739Z",
     "start_time": "2023-03-12T18:50:16.597539Z"
    }
   },
   "outputs": [],
   "source": [
    "hostnames = []\n",
    "\n",
    "def set_hostnames(number_of_hosts: int) -> None:\n",
    "    os_prefix = ['L']*4 + ['S']*3 + ['A']*2 + ['H']*1  # 40% Linux | 30% Solaris | 20% AIX | 10% HP-UX\n",
    "    enviroments = ['D']*10 + ['I']*10 + ['T']*25 + ['S']*25 + ['P']*30\n",
    "    alpha_3_country_codes = ['NOR']*6 + ['FRA']*9 + ['ITA']*16 + ['ESP']*16 + ['DEU']*23 + ['IRL']*30\n",
    "    grupo_alpha = []\n",
    "    for i in range(number_of_hosts):\n",
    "        country = random.choice(alpha_3_country_codes)\n",
    "        hostname = random.choice(os_prefix) + random.choice(enviroments)\n",
    "        hostname += country\n",
    "        grupo_alpha.append(hostname)\n",
    "        hostname += str(grupo_alpha.count(hostname)).zfill(3)\n",
    "        hostnames.append(hostname)"
   ]
  },
  {
   "cell_type": "markdown",
   "id": "bec0fa16",
   "metadata": {},
   "source": [
    "<a id=\"4\"></a>\n",
    "## Crear funcion para obtener el nombre del objeto"
   ]
  },
  {
   "cell_type": "code",
   "execution_count": 4,
   "id": "dc640d1d",
   "metadata": {
    "ExecuteTime": {
     "end_time": "2023-03-12T18:50:16.625477Z",
     "start_time": "2023-03-12T18:50:16.613741Z"
    }
   },
   "outputs": [],
   "source": [
    "def get_os(hostname:str)->None:\n",
    "    \"\"\"\n",
    "    Parametros:\n",
    "    hostname (str): \n",
    "\n",
    "    Returns:\n",
    "    os(str) : Linux,Solaris,AIX,HP-UX o Unknow.\n",
    "    \n",
    "    \"\"\"\n",
    "    if hostname.startswith('L'):\n",
    "        return 'Linux'\n",
    "    elif hostname.startswith('S'):\n",
    "        return 'Solaris'\n",
    "    elif hostname.startswith('A'):\n",
    "        return 'AIX'\n",
    "    elif hostname.startswith('H'):\n",
    "        return 'HP-UX'\n",
    "    else :\n",
    "        return 'Unknow'"
   ]
  },
  {
   "cell_type": "markdown",
   "id": "96801d4a",
   "metadata": {},
   "source": [
    "<a id=\"5\"></a>\n",
    "## Crear funcion para nombre del entorno"
   ]
  },
  {
   "cell_type": "code",
   "execution_count": 5,
   "id": "7a267b9a",
   "metadata": {
    "ExecuteTime": {
     "end_time": "2023-03-12T18:50:16.640612Z",
     "start_time": "2023-03-12T18:50:16.628632Z"
    }
   },
   "outputs": [],
   "source": [
    "def get_environment(hostname:str)-> None:\n",
    "    \"\"\"\n",
    "    Parametros:\n",
    "    hostname (str): \n",
    "\n",
    "    Returns:\n",
    "    Environment(str) : Integration,Testing,Development,Staging,Production o Unknow.\n",
    "    \n",
    "    \"\"\"\n",
    "    if hostname[1] == 'D':\n",
    "        return 'Development'\n",
    "    elif hostname[1] == 'I':\n",
    "        return 'Integration'\n",
    "    elif hostname[1] == 'T':\n",
    "        return 'Testing'\n",
    "    elif hostname[1] == 'S':\n",
    "        return 'Staging'\n",
    "    elif hostname[1] == 'P':\n",
    "        return 'Production'\n",
    "    else :\n",
    "        return 'Unknow'"
   ]
  },
  {
   "cell_type": "markdown",
   "id": "bb37c617",
   "metadata": {},
   "source": [
    "<a id=\"6\"></a>\n",
    "## Crear funcion para obtener nombre del pais"
   ]
  },
  {
   "cell_type": "code",
   "execution_count": 6,
   "id": "bbff6e7a",
   "metadata": {
    "ExecuteTime": {
     "end_time": "2023-03-12T18:50:16.656596Z",
     "start_time": "2023-03-12T18:50:16.641647Z"
    }
   },
   "outputs": [],
   "source": [
    "def get_country(hostname:str)-> None :\n",
    "    \"\"\"\n",
    "    Parametros:\n",
    "    hostname (str): \n",
    "\n",
    "    Returns:\n",
    "    Paises(str): NOR,DEU,ITA,ESP,IRL,FRA o Unknow.\n",
    "    \n",
    "    \"\"\"\n",
    "    if hostname[2:5] ==  'NOR':\n",
    "        return 'Norway'\n",
    "    elif hostname[2:5] == 'DEU':\n",
    "        return 'Germany'\n",
    "    elif hostname[2:5] == 'ITA':\n",
    "        return 'Italy'\n",
    "    elif hostname[2:5] == 'ESP':\n",
    "        return 'Spain'\n",
    "    elif hostname[2:5] == 'IRL':\n",
    "        return 'Ireland'\n",
    "    elif hostname[2:5] == 'FRA':\n",
    "        return 'France'\n",
    "    else : \n",
    "        return 'Unknow'"
   ]
  },
  {
   "cell_type": "markdown",
   "id": "12999248",
   "metadata": {
    "ExecuteTime": {
     "end_time": "2023-03-09T18:33:10.078454Z",
     "start_time": "2023-03-09T18:33:10.060900Z"
    }
   },
   "source": [
    "<a id=\"7\"></a>\n",
    "## Crear funcion para generar un Dataframe"
   ]
  },
  {
   "cell_type": "code",
   "execution_count": 7,
   "id": "40118ff6",
   "metadata": {
    "ExecuteTime": {
     "end_time": "2023-03-12T18:50:16.671898Z",
     "start_time": "2023-03-12T18:50:16.658648Z"
    }
   },
   "outputs": [],
   "source": [
    "def set_dataframe(count:int)-> None:\n",
    "    global df\n",
    "    set_hostnames(count)\n",
    "    \n",
    "    for hostname in hostnames :\n",
    "        dataset.append({\n",
    "            'hostname': hostname,\n",
    "            'os': get_os(hostname=hostname),\n",
    "            'environment': get_environment(hostname=hostname) ,\n",
    "            'country': get_country(hostname=hostname),\n",
    "            'node': int(hostname[-2:]),\n",
    "            \n",
    "        })\n",
    "        \n",
    "    df = pd.DataFrame(dataset)"
   ]
  },
  {
   "cell_type": "markdown",
   "id": "5c19cf6a",
   "metadata": {},
   "source": [
    "<a id=\"8\"></a>\n",
    "## Crear el dataframe"
   ]
  },
  {
   "cell_type": "code",
   "execution_count": 8,
   "id": "d7899cce",
   "metadata": {
    "ExecuteTime": {
     "end_time": "2023-03-12T18:50:16.718573Z",
     "start_time": "2023-03-12T18:50:16.672951Z"
    }
   },
   "outputs": [
    {
     "data": {
      "text/html": [
       "<div>\n",
       "<style scoped>\n",
       "    .dataframe tbody tr th:only-of-type {\n",
       "        vertical-align: middle;\n",
       "    }\n",
       "\n",
       "    .dataframe tbody tr th {\n",
       "        vertical-align: top;\n",
       "    }\n",
       "\n",
       "    .dataframe thead th {\n",
       "        text-align: right;\n",
       "    }\n",
       "</style>\n",
       "<table border=\"1\" class=\"dataframe\">\n",
       "  <thead>\n",
       "    <tr style=\"text-align: right;\">\n",
       "      <th></th>\n",
       "      <th>hostname</th>\n",
       "      <th>os</th>\n",
       "      <th>environment</th>\n",
       "      <th>country</th>\n",
       "      <th>node</th>\n",
       "    </tr>\n",
       "  </thead>\n",
       "  <tbody>\n",
       "    <tr>\n",
       "      <th>0</th>\n",
       "      <td>ASESP001</td>\n",
       "      <td>AIX</td>\n",
       "      <td>Staging</td>\n",
       "      <td>Spain</td>\n",
       "      <td>1</td>\n",
       "    </tr>\n",
       "    <tr>\n",
       "      <th>1</th>\n",
       "      <td>LPNOR001</td>\n",
       "      <td>Linux</td>\n",
       "      <td>Production</td>\n",
       "      <td>Norway</td>\n",
       "      <td>1</td>\n",
       "    </tr>\n",
       "    <tr>\n",
       "      <th>2</th>\n",
       "      <td>LDFRA001</td>\n",
       "      <td>Linux</td>\n",
       "      <td>Development</td>\n",
       "      <td>France</td>\n",
       "      <td>1</td>\n",
       "    </tr>\n",
       "    <tr>\n",
       "      <th>3</th>\n",
       "      <td>LIIRL001</td>\n",
       "      <td>Linux</td>\n",
       "      <td>Integration</td>\n",
       "      <td>Ireland</td>\n",
       "      <td>1</td>\n",
       "    </tr>\n",
       "    <tr>\n",
       "      <th>4</th>\n",
       "      <td>LSITA001</td>\n",
       "      <td>Linux</td>\n",
       "      <td>Staging</td>\n",
       "      <td>Italy</td>\n",
       "      <td>1</td>\n",
       "    </tr>\n",
       "    <tr>\n",
       "      <th>...</th>\n",
       "      <td>...</td>\n",
       "      <td>...</td>\n",
       "      <td>...</td>\n",
       "      <td>...</td>\n",
       "      <td>...</td>\n",
       "    </tr>\n",
       "    <tr>\n",
       "      <th>1495</th>\n",
       "      <td>LSFRA013</td>\n",
       "      <td>Linux</td>\n",
       "      <td>Staging</td>\n",
       "      <td>France</td>\n",
       "      <td>13</td>\n",
       "    </tr>\n",
       "    <tr>\n",
       "      <th>1496</th>\n",
       "      <td>STESP026</td>\n",
       "      <td>Solaris</td>\n",
       "      <td>Testing</td>\n",
       "      <td>Spain</td>\n",
       "      <td>26</td>\n",
       "    </tr>\n",
       "    <tr>\n",
       "      <th>1497</th>\n",
       "      <td>ATFRA008</td>\n",
       "      <td>AIX</td>\n",
       "      <td>Testing</td>\n",
       "      <td>France</td>\n",
       "      <td>8</td>\n",
       "    </tr>\n",
       "    <tr>\n",
       "      <th>1498</th>\n",
       "      <td>LSESP021</td>\n",
       "      <td>Linux</td>\n",
       "      <td>Staging</td>\n",
       "      <td>Spain</td>\n",
       "      <td>21</td>\n",
       "    </tr>\n",
       "    <tr>\n",
       "      <th>1499</th>\n",
       "      <td>LSIRL043</td>\n",
       "      <td>Linux</td>\n",
       "      <td>Staging</td>\n",
       "      <td>Ireland</td>\n",
       "      <td>43</td>\n",
       "    </tr>\n",
       "  </tbody>\n",
       "</table>\n",
       "<p>1500 rows × 5 columns</p>\n",
       "</div>"
      ],
      "text/plain": [
       "      hostname       os  environment  country  node\n",
       "0     ASESP001      AIX      Staging    Spain     1\n",
       "1     LPNOR001    Linux   Production   Norway     1\n",
       "2     LDFRA001    Linux  Development   France     1\n",
       "3     LIIRL001    Linux  Integration  Ireland     1\n",
       "4     LSITA001    Linux      Staging    Italy     1\n",
       "...        ...      ...          ...      ...   ...\n",
       "1495  LSFRA013    Linux      Staging   France    13\n",
       "1496  STESP026  Solaris      Testing    Spain    26\n",
       "1497  ATFRA008      AIX      Testing   France     8\n",
       "1498  LSESP021    Linux      Staging    Spain    21\n",
       "1499  LSIRL043    Linux      Staging  Ireland    43\n",
       "\n",
       "[1500 rows x 5 columns]"
      ]
     },
     "execution_count": 8,
     "metadata": {},
     "output_type": "execute_result"
    }
   ],
   "source": [
    "set_dataframe(1500)\n",
    "df"
   ]
  },
  {
   "cell_type": "markdown",
   "id": "d030c7d3",
   "metadata": {},
   "source": [
    "<a id=\"9\"></a>\n",
    "## Guardar el Dataframe generado en un fichero CSV"
   ]
  },
  {
   "cell_type": "code",
   "execution_count": 9,
   "id": "b0006ce3",
   "metadata": {
    "ExecuteTime": {
     "end_time": "2023-03-12T18:50:16.749583Z",
     "start_time": "2023-03-12T18:50:16.720675Z"
    }
   },
   "outputs": [],
   "source": [
    "df.to_csv(\n",
    "'hosts.csv',\n",
    "header=True,\n",
    "index=False\n",
    ")\n"
   ]
  },
  {
   "cell_type": "code",
   "execution_count": 10,
   "id": "a5a2ba90",
   "metadata": {
    "ExecuteTime": {
     "end_time": "2023-03-12T18:50:16.779958Z",
     "start_time": "2023-03-12T18:50:16.753140Z"
    }
   },
   "outputs": [
    {
     "data": {
      "text/html": [
       "<div>\n",
       "<style scoped>\n",
       "    .dataframe tbody tr th:only-of-type {\n",
       "        vertical-align: middle;\n",
       "    }\n",
       "\n",
       "    .dataframe tbody tr th {\n",
       "        vertical-align: top;\n",
       "    }\n",
       "\n",
       "    .dataframe thead th {\n",
       "        text-align: right;\n",
       "    }\n",
       "</style>\n",
       "<table border=\"1\" class=\"dataframe\">\n",
       "  <thead>\n",
       "    <tr style=\"text-align: right;\">\n",
       "      <th></th>\n",
       "      <th>hostname</th>\n",
       "      <th>os</th>\n",
       "      <th>environment</th>\n",
       "      <th>country</th>\n",
       "      <th>node</th>\n",
       "    </tr>\n",
       "  </thead>\n",
       "  <tbody>\n",
       "    <tr>\n",
       "      <th>0</th>\n",
       "      <td>ASESP001</td>\n",
       "      <td>AIX</td>\n",
       "      <td>Staging</td>\n",
       "      <td>Spain</td>\n",
       "      <td>1</td>\n",
       "    </tr>\n",
       "    <tr>\n",
       "      <th>1</th>\n",
       "      <td>LPNOR001</td>\n",
       "      <td>Linux</td>\n",
       "      <td>Production</td>\n",
       "      <td>Norway</td>\n",
       "      <td>1</td>\n",
       "    </tr>\n",
       "    <tr>\n",
       "      <th>2</th>\n",
       "      <td>LDFRA001</td>\n",
       "      <td>Linux</td>\n",
       "      <td>Development</td>\n",
       "      <td>France</td>\n",
       "      <td>1</td>\n",
       "    </tr>\n",
       "    <tr>\n",
       "      <th>3</th>\n",
       "      <td>LIIRL001</td>\n",
       "      <td>Linux</td>\n",
       "      <td>Integration</td>\n",
       "      <td>Ireland</td>\n",
       "      <td>1</td>\n",
       "    </tr>\n",
       "    <tr>\n",
       "      <th>4</th>\n",
       "      <td>LSITA001</td>\n",
       "      <td>Linux</td>\n",
       "      <td>Staging</td>\n",
       "      <td>Italy</td>\n",
       "      <td>1</td>\n",
       "    </tr>\n",
       "    <tr>\n",
       "      <th>...</th>\n",
       "      <td>...</td>\n",
       "      <td>...</td>\n",
       "      <td>...</td>\n",
       "      <td>...</td>\n",
       "      <td>...</td>\n",
       "    </tr>\n",
       "    <tr>\n",
       "      <th>1495</th>\n",
       "      <td>LSFRA013</td>\n",
       "      <td>Linux</td>\n",
       "      <td>Staging</td>\n",
       "      <td>France</td>\n",
       "      <td>13</td>\n",
       "    </tr>\n",
       "    <tr>\n",
       "      <th>1496</th>\n",
       "      <td>STESP026</td>\n",
       "      <td>Solaris</td>\n",
       "      <td>Testing</td>\n",
       "      <td>Spain</td>\n",
       "      <td>26</td>\n",
       "    </tr>\n",
       "    <tr>\n",
       "      <th>1497</th>\n",
       "      <td>ATFRA008</td>\n",
       "      <td>AIX</td>\n",
       "      <td>Testing</td>\n",
       "      <td>France</td>\n",
       "      <td>8</td>\n",
       "    </tr>\n",
       "    <tr>\n",
       "      <th>1498</th>\n",
       "      <td>LSESP021</td>\n",
       "      <td>Linux</td>\n",
       "      <td>Staging</td>\n",
       "      <td>Spain</td>\n",
       "      <td>21</td>\n",
       "    </tr>\n",
       "    <tr>\n",
       "      <th>1499</th>\n",
       "      <td>LSIRL043</td>\n",
       "      <td>Linux</td>\n",
       "      <td>Staging</td>\n",
       "      <td>Ireland</td>\n",
       "      <td>43</td>\n",
       "    </tr>\n",
       "  </tbody>\n",
       "</table>\n",
       "<p>1500 rows × 5 columns</p>\n",
       "</div>"
      ],
      "text/plain": [
       "      hostname       os  environment  country  node\n",
       "0     ASESP001      AIX      Staging    Spain     1\n",
       "1     LPNOR001    Linux   Production   Norway     1\n",
       "2     LDFRA001    Linux  Development   France     1\n",
       "3     LIIRL001    Linux  Integration  Ireland     1\n",
       "4     LSITA001    Linux      Staging    Italy     1\n",
       "...        ...      ...          ...      ...   ...\n",
       "1495  LSFRA013    Linux      Staging   France    13\n",
       "1496  STESP026  Solaris      Testing    Spain    26\n",
       "1497  ATFRA008      AIX      Testing   France     8\n",
       "1498  LSESP021    Linux      Staging    Spain    21\n",
       "1499  LSIRL043    Linux      Staging  Ireland    43\n",
       "\n",
       "[1500 rows x 5 columns]"
      ]
     },
     "execution_count": 10,
     "metadata": {},
     "output_type": "execute_result"
    }
   ],
   "source": [
    "hosts_df = pd.read_csv('hosts.csv')\n",
    "hosts_df"
   ]
  },
  {
   "cell_type": "markdown",
   "id": "6d2e4ffd",
   "metadata": {},
   "source": [
    "<a id=\"10\"></a>\n",
    "## Generar grafico agrupando los entornos de cada pais"
   ]
  },
  {
   "cell_type": "code",
   "execution_count": 11,
   "id": "65c7d14f",
   "metadata": {
    "ExecuteTime": {
     "end_time": "2023-03-12T18:50:16.795713Z",
     "start_time": "2023-03-12T18:50:16.781987Z"
    }
   },
   "outputs": [],
   "source": [
    "numero_paises = df.groupby(['country','environment']).size()"
   ]
  },
  {
   "cell_type": "code",
   "execution_count": 12,
   "id": "8e446fd1",
   "metadata": {
    "ExecuteTime": {
     "end_time": "2023-03-12T18:50:16.995604Z",
     "start_time": "2023-03-12T18:50:16.797741Z"
    }
   },
   "outputs": [
    {
     "data": {
      "image/png": "[encoded data removed]",
      "text/plain": [
       "<Figure size 432x288 with 1 Axes>"
      ]
     },
     "metadata": {
      "needs_background": "light"
     },
     "output_type": "display_data"
    }
   ],
   "source": [
    "numero_paises.unstack().plot(kind='bar');\n",
    "plt.title('Hosts by country grouped by environment')\n",
    "plt.show()"
   ]
  },
  {
   "cell_type": "markdown",
   "id": "366feb63",
   "metadata": {},
   "source": [
    "## Crear una figura con 4 gráficos en una malla de 2 filas y 2 columnas\n",
    "<a id=\"11\"></a>\n"
   ]
  },
  {
   "cell_type": "markdown",
   "id": "1318b2ae",
   "metadata": {},
   "source": [
    "<a id=\"12\"></a>\n",
    "### Figura 1 (Arriba izquierda)"
   ]
  },
  {
   "cell_type": "code",
   "execution_count": 13,
   "id": "911af9b9",
   "metadata": {
    "ExecuteTime": {
     "end_time": "2023-03-12T18:50:17.134603Z",
     "start_time": "2023-03-12T18:50:16.997590Z"
    }
   },
   "outputs": [
    {
     "data": {
      "image/png": "[encoded data removed]",
      "text/plain": [
       "<Figure size 432x288 with 1 Axes>"
      ]
     },
     "metadata": {
      "needs_background": "light"
     },
     "output_type": "display_data"
    }
   ],
   "source": [
    "type_os = df.groupby(['country','os']).size().unstack()\n",
    "type_os.plot(kind='barh');\n",
    "plt.title('Type of OS grouped by country')\n",
    "plt.show()"
   ]
  },
  {
   "cell_type": "markdown",
   "id": "741ff94c",
   "metadata": {},
   "source": [
    "<a id=\"13\"></a>\n",
    "### Figura 2 (Abajo Izquierda)"
   ]
  },
  {
   "cell_type": "code",
   "execution_count": 14,
   "id": "169d921a",
   "metadata": {
    "ExecuteTime": {
     "end_time": "2023-03-12T18:50:17.150822Z",
     "start_time": "2023-03-12T18:50:17.136580Z"
    }
   },
   "outputs": [
    {
     "data": {
      "text/html": [
       "<div>\n",
       "<style scoped>\n",
       "    .dataframe tbody tr th:only-of-type {\n",
       "        vertical-align: middle;\n",
       "    }\n",
       "\n",
       "    .dataframe tbody tr th {\n",
       "        vertical-align: top;\n",
       "    }\n",
       "\n",
       "    .dataframe thead th {\n",
       "        text-align: right;\n",
       "    }\n",
       "</style>\n",
       "<table border=\"1\" class=\"dataframe\">\n",
       "  <thead>\n",
       "    <tr style=\"text-align: right;\">\n",
       "      <th></th>\n",
       "      <th>hostname</th>\n",
       "      <th>os</th>\n",
       "      <th>environment</th>\n",
       "      <th>country</th>\n",
       "      <th>node</th>\n",
       "    </tr>\n",
       "  </thead>\n",
       "  <tbody>\n",
       "    <tr>\n",
       "      <th>0</th>\n",
       "      <td>ASESP001</td>\n",
       "      <td>AIX</td>\n",
       "      <td>Staging</td>\n",
       "      <td>Spain</td>\n",
       "      <td>1</td>\n",
       "    </tr>\n",
       "    <tr>\n",
       "      <th>1</th>\n",
       "      <td>LPNOR001</td>\n",
       "      <td>Linux</td>\n",
       "      <td>Production</td>\n",
       "      <td>Norway</td>\n",
       "      <td>1</td>\n",
       "    </tr>\n",
       "    <tr>\n",
       "      <th>2</th>\n",
       "      <td>LDFRA001</td>\n",
       "      <td>Linux</td>\n",
       "      <td>Development</td>\n",
       "      <td>France</td>\n",
       "      <td>1</td>\n",
       "    </tr>\n",
       "    <tr>\n",
       "      <th>3</th>\n",
       "      <td>LIIRL001</td>\n",
       "      <td>Linux</td>\n",
       "      <td>Integration</td>\n",
       "      <td>Ireland</td>\n",
       "      <td>1</td>\n",
       "    </tr>\n",
       "    <tr>\n",
       "      <th>4</th>\n",
       "      <td>LSITA001</td>\n",
       "      <td>Linux</td>\n",
       "      <td>Staging</td>\n",
       "      <td>Italy</td>\n",
       "      <td>1</td>\n",
       "    </tr>\n",
       "    <tr>\n",
       "      <th>...</th>\n",
       "      <td>...</td>\n",
       "      <td>...</td>\n",
       "      <td>...</td>\n",
       "      <td>...</td>\n",
       "      <td>...</td>\n",
       "    </tr>\n",
       "    <tr>\n",
       "      <th>1495</th>\n",
       "      <td>LSFRA013</td>\n",
       "      <td>Linux</td>\n",
       "      <td>Staging</td>\n",
       "      <td>France</td>\n",
       "      <td>13</td>\n",
       "    </tr>\n",
       "    <tr>\n",
       "      <th>1496</th>\n",
       "      <td>STESP026</td>\n",
       "      <td>Solaris</td>\n",
       "      <td>Testing</td>\n",
       "      <td>Spain</td>\n",
       "      <td>26</td>\n",
       "    </tr>\n",
       "    <tr>\n",
       "      <th>1497</th>\n",
       "      <td>ATFRA008</td>\n",
       "      <td>AIX</td>\n",
       "      <td>Testing</td>\n",
       "      <td>France</td>\n",
       "      <td>8</td>\n",
       "    </tr>\n",
       "    <tr>\n",
       "      <th>1498</th>\n",
       "      <td>LSESP021</td>\n",
       "      <td>Linux</td>\n",
       "      <td>Staging</td>\n",
       "      <td>Spain</td>\n",
       "      <td>21</td>\n",
       "    </tr>\n",
       "    <tr>\n",
       "      <th>1499</th>\n",
       "      <td>LSIRL043</td>\n",
       "      <td>Linux</td>\n",
       "      <td>Staging</td>\n",
       "      <td>Ireland</td>\n",
       "      <td>43</td>\n",
       "    </tr>\n",
       "  </tbody>\n",
       "</table>\n",
       "<p>1500 rows × 5 columns</p>\n",
       "</div>"
      ],
      "text/plain": [
       "      hostname       os  environment  country  node\n",
       "0     ASESP001      AIX      Staging    Spain     1\n",
       "1     LPNOR001    Linux   Production   Norway     1\n",
       "2     LDFRA001    Linux  Development   France     1\n",
       "3     LIIRL001    Linux  Integration  Ireland     1\n",
       "4     LSITA001    Linux      Staging    Italy     1\n",
       "...        ...      ...          ...      ...   ...\n",
       "1495  LSFRA013    Linux      Staging   France    13\n",
       "1496  STESP026  Solaris      Testing    Spain    26\n",
       "1497  ATFRA008      AIX      Testing   France     8\n",
       "1498  LSESP021    Linux      Staging    Spain    21\n",
       "1499  LSIRL043    Linux      Staging  Ireland    43\n",
       "\n",
       "[1500 rows x 5 columns]"
      ]
     },
     "execution_count": 14,
     "metadata": {},
     "output_type": "execute_result"
    }
   ],
   "source": [
    "df_hosts_country = df['country'].value_counts().reset_index()\n",
    "df"
   ]
  },
  {
   "cell_type": "code",
   "execution_count": 15,
   "id": "558c06e2",
   "metadata": {
    "ExecuteTime": {
     "end_time": "2023-03-12T18:50:17.165988Z",
     "start_time": "2023-03-12T18:50:17.151834Z"
    }
   },
   "outputs": [],
   "source": [
    "df_hosts_country.rename({'index':'country', 'country':'Number of hosts'}, axis=1,inplace=True)"
   ]
  },
  {
   "cell_type": "code",
   "execution_count": 16,
   "id": "05ec4c54",
   "metadata": {
    "ExecuteTime": {
     "end_time": "2023-03-12T18:50:17.260588Z",
     "start_time": "2023-03-12T18:50:17.168479Z"
    }
   },
   "outputs": [
    {
     "data": {
      "image/png": "[encoded data removed]",
      "text/plain": [
       "<Figure size 432x288 with 1 Axes>"
      ]
     },
     "metadata": {
      "needs_background": "light"
     },
     "output_type": "display_data"
    }
   ],
   "source": [
    "grafico = plt.barh(y=df_hosts_country['country'] , width=df_hosts_country['Number of hosts'],color=sns.color_palette(\"YlGn_r\"));\n",
    "plt.bar_label(grafico, label_type=\"edge\");\n"
   ]
  },
  {
   "cell_type": "markdown",
   "id": "61448ebc",
   "metadata": {},
   "source": [
    "<a id=\"14\"></a>\n",
    "### Figura 3 (Abajo derecha)\n",
    "Este es simplemente la figura del punto 10, pero con el 0 dentro de la funcion unstack()"
   ]
  },
  {
   "cell_type": "code",
   "execution_count": 17,
   "id": "237c2fbe",
   "metadata": {
    "ExecuteTime": {
     "end_time": "2023-03-12T18:50:17.416636Z",
     "start_time": "2023-03-12T18:50:17.262574Z"
    }
   },
   "outputs": [
    {
     "data": {
      "image/png": "[encoded data removed]",
      "text/plain": [
       "<Figure size 432x288 with 1 Axes>"
      ]
     },
     "metadata": {
      "needs_background": "light"
     },
     "output_type": "display_data"
    }
   ],
   "source": [
    "#numero_paises.unstack(0).plot(kind='bar');\n",
    "numero_paises_df = numero_paises.unstack(0)\n",
    "numero_paises_df.plot(kind='bar')\n",
    "plt.title('Hosts by country grouped by environment')\n",
    "plt.ylabel(\"Number of hosts\")\n",
    "plt.show()"
   ]
  },
  {
   "cell_type": "markdown",
   "id": "ad3b7235",
   "metadata": {},
   "source": [
    "<a id=\"15\"></a>\n",
    "### Figura 4 (Arriba derecha)\n",
    "Utilizo la funcion reset index para tener un **Dataframe** en vez de una **serie** de valores agrupados"
   ]
  },
  {
   "cell_type": "code",
   "execution_count": 18,
   "id": "0f72bdf5",
   "metadata": {
    "ExecuteTime": {
     "end_time": "2023-03-12T18:50:17.432263Z",
     "start_time": "2023-03-12T18:50:17.419298Z"
    }
   },
   "outputs": [
    {
     "data": {
      "text/html": [
       "<div>\n",
       "<style scoped>\n",
       "    .dataframe tbody tr th:only-of-type {\n",
       "        vertical-align: middle;\n",
       "    }\n",
       "\n",
       "    .dataframe tbody tr th {\n",
       "        vertical-align: top;\n",
       "    }\n",
       "\n",
       "    .dataframe thead th {\n",
       "        text-align: right;\n",
       "    }\n",
       "</style>\n",
       "<table border=\"1\" class=\"dataframe\">\n",
       "  <thead>\n",
       "    <tr style=\"text-align: right;\">\n",
       "      <th></th>\n",
       "      <th>index</th>\n",
       "      <th>os</th>\n",
       "    </tr>\n",
       "  </thead>\n",
       "  <tbody>\n",
       "    <tr>\n",
       "      <th>0</th>\n",
       "      <td>Linux</td>\n",
       "      <td>611</td>\n",
       "    </tr>\n",
       "    <tr>\n",
       "      <th>1</th>\n",
       "      <td>Solaris</td>\n",
       "      <td>417</td>\n",
       "    </tr>\n",
       "    <tr>\n",
       "      <th>2</th>\n",
       "      <td>AIX</td>\n",
       "      <td>306</td>\n",
       "    </tr>\n",
       "    <tr>\n",
       "      <th>3</th>\n",
       "      <td>HP-UX</td>\n",
       "      <td>166</td>\n",
       "    </tr>\n",
       "  </tbody>\n",
       "</table>\n",
       "</div>"
      ],
      "text/plain": [
       "     index   os\n",
       "0    Linux  611\n",
       "1  Solaris  417\n",
       "2      AIX  306\n",
       "3    HP-UX  166"
      ]
     },
     "execution_count": 18,
     "metadata": {},
     "output_type": "execute_result"
    }
   ],
   "source": [
    "df_pie  = df['os'].value_counts().reset_index()\n",
    "df_pie"
   ]
  },
  {
   "cell_type": "code",
   "execution_count": 19,
   "id": "51f7b7e0",
   "metadata": {
    "ExecuteTime": {
     "end_time": "2023-03-12T18:50:17.447758Z",
     "start_time": "2023-03-12T18:50:17.434268Z"
    }
   },
   "outputs": [
    {
     "data": {
      "text/html": [
       "<div>\n",
       "<style scoped>\n",
       "    .dataframe tbody tr th:only-of-type {\n",
       "        vertical-align: middle;\n",
       "    }\n",
       "\n",
       "    .dataframe tbody tr th {\n",
       "        vertical-align: top;\n",
       "    }\n",
       "\n",
       "    .dataframe thead th {\n",
       "        text-align: right;\n",
       "    }\n",
       "</style>\n",
       "<table border=\"1\" class=\"dataframe\">\n",
       "  <thead>\n",
       "    <tr style=\"text-align: right;\">\n",
       "      <th></th>\n",
       "      <th>os</th>\n",
       "      <th>cantidad</th>\n",
       "    </tr>\n",
       "  </thead>\n",
       "  <tbody>\n",
       "    <tr>\n",
       "      <th>0</th>\n",
       "      <td>Linux</td>\n",
       "      <td>611</td>\n",
       "    </tr>\n",
       "    <tr>\n",
       "      <th>1</th>\n",
       "      <td>Solaris</td>\n",
       "      <td>417</td>\n",
       "    </tr>\n",
       "    <tr>\n",
       "      <th>2</th>\n",
       "      <td>AIX</td>\n",
       "      <td>306</td>\n",
       "    </tr>\n",
       "    <tr>\n",
       "      <th>3</th>\n",
       "      <td>HP-UX</td>\n",
       "      <td>166</td>\n",
       "    </tr>\n",
       "  </tbody>\n",
       "</table>\n",
       "</div>"
      ],
      "text/plain": [
       "        os  cantidad\n",
       "0    Linux       611\n",
       "1  Solaris       417\n",
       "2      AIX       306\n",
       "3    HP-UX       166"
      ]
     },
     "execution_count": 19,
     "metadata": {},
     "output_type": "execute_result"
    }
   ],
   "source": [
    "df_pie.rename({'index':'os', 'os':'cantidad'}, axis=1,inplace=True) # Renombro las columnas\n",
    "df_pie"
   ]
  },
  {
   "cell_type": "markdown",
   "id": "ce368212",
   "metadata": {},
   "source": [
    "Para sacar las proporciones mi idea es utilizar de nuevo la funcion value_counts con normalize=True y con la columna 'os' , para despues multiplicarlo por 100 para obtener las proporciones y despues redondearlo a 2 decimales con la funcion round "
   ]
  },
  {
   "cell_type": "code",
   "execution_count": 20,
   "id": "800dd74f",
   "metadata": {
    "ExecuteTime": {
     "end_time": "2023-03-12T18:50:17.462827Z",
     "start_time": "2023-03-12T18:50:17.449792Z"
    }
   },
   "outputs": [
    {
     "data": {
      "text/html": [
       "<div>\n",
       "<style scoped>\n",
       "    .dataframe tbody tr th:only-of-type {\n",
       "        vertical-align: middle;\n",
       "    }\n",
       "\n",
       "    .dataframe tbody tr th {\n",
       "        vertical-align: top;\n",
       "    }\n",
       "\n",
       "    .dataframe thead th {\n",
       "        text-align: right;\n",
       "    }\n",
       "</style>\n",
       "<table border=\"1\" class=\"dataframe\">\n",
       "  <thead>\n",
       "    <tr style=\"text-align: right;\">\n",
       "      <th></th>\n",
       "      <th>os</th>\n",
       "      <th>cantidad</th>\n",
       "      <th>porcentaje</th>\n",
       "    </tr>\n",
       "  </thead>\n",
       "  <tbody>\n",
       "    <tr>\n",
       "      <th>0</th>\n",
       "      <td>Linux</td>\n",
       "      <td>611</td>\n",
       "      <td>40.733333</td>\n",
       "    </tr>\n",
       "    <tr>\n",
       "      <th>1</th>\n",
       "      <td>Solaris</td>\n",
       "      <td>417</td>\n",
       "      <td>27.800000</td>\n",
       "    </tr>\n",
       "    <tr>\n",
       "      <th>2</th>\n",
       "      <td>AIX</td>\n",
       "      <td>306</td>\n",
       "      <td>20.400000</td>\n",
       "    </tr>\n",
       "    <tr>\n",
       "      <th>3</th>\n",
       "      <td>HP-UX</td>\n",
       "      <td>166</td>\n",
       "      <td>11.066667</td>\n",
       "    </tr>\n",
       "  </tbody>\n",
       "</table>\n",
       "</div>"
      ],
      "text/plain": [
       "        os  cantidad  porcentaje\n",
       "0    Linux       611   40.733333\n",
       "1  Solaris       417   27.800000\n",
       "2      AIX       306   20.400000\n",
       "3    HP-UX       166   11.066667"
      ]
     },
     "execution_count": 20,
     "metadata": {},
     "output_type": "execute_result"
    }
   ],
   "source": [
    "df_pie['porcentaje'] = (df['os'].value_counts(normalize=True).reset_index()['os'])*100\n",
    "df_pie"
   ]
  },
  {
   "cell_type": "code",
   "execution_count": 21,
   "id": "33a94ecd",
   "metadata": {
    "ExecuteTime": {
     "end_time": "2023-03-12T18:50:17.478878Z",
     "start_time": "2023-03-12T18:50:17.463966Z"
    }
   },
   "outputs": [
    {
     "data": {
      "text/html": [
       "<div>\n",
       "<style scoped>\n",
       "    .dataframe tbody tr th:only-of-type {\n",
       "        vertical-align: middle;\n",
       "    }\n",
       "\n",
       "    .dataframe tbody tr th {\n",
       "        vertical-align: top;\n",
       "    }\n",
       "\n",
       "    .dataframe thead th {\n",
       "        text-align: right;\n",
       "    }\n",
       "</style>\n",
       "<table border=\"1\" class=\"dataframe\">\n",
       "  <thead>\n",
       "    <tr style=\"text-align: right;\">\n",
       "      <th></th>\n",
       "      <th>os</th>\n",
       "      <th>cantidad</th>\n",
       "      <th>porcentaje</th>\n",
       "    </tr>\n",
       "  </thead>\n",
       "  <tbody>\n",
       "    <tr>\n",
       "      <th>0</th>\n",
       "      <td>Linux</td>\n",
       "      <td>611</td>\n",
       "      <td>40.73</td>\n",
       "    </tr>\n",
       "    <tr>\n",
       "      <th>1</th>\n",
       "      <td>Solaris</td>\n",
       "      <td>417</td>\n",
       "      <td>27.80</td>\n",
       "    </tr>\n",
       "    <tr>\n",
       "      <th>2</th>\n",
       "      <td>AIX</td>\n",
       "      <td>306</td>\n",
       "      <td>20.40</td>\n",
       "    </tr>\n",
       "    <tr>\n",
       "      <th>3</th>\n",
       "      <td>HP-UX</td>\n",
       "      <td>166</td>\n",
       "      <td>11.07</td>\n",
       "    </tr>\n",
       "  </tbody>\n",
       "</table>\n",
       "</div>"
      ],
      "text/plain": [
       "        os  cantidad  porcentaje\n",
       "0    Linux       611       40.73\n",
       "1  Solaris       417       27.80\n",
       "2      AIX       306       20.40\n",
       "3    HP-UX       166       11.07"
      ]
     },
     "execution_count": 21,
     "metadata": {},
     "output_type": "execute_result"
    }
   ],
   "source": [
    "df_pie['porcentaje'] = round(df_pie['porcentaje'],2)\n",
    "df_pie"
   ]
  },
  {
   "cell_type": "markdown",
   "id": "6696e46f",
   "metadata": {},
   "source": [
    "Ahora procedemos a combinar las 2 columnas, la columna de os y de porcentaje para obtener una columna como : 'Linux 35.56%' y que estos valores de la columna labels sean la legenda para el pie chart."
   ]
  },
  {
   "cell_type": "code",
   "execution_count": 22,
   "id": "dbd2dd4a",
   "metadata": {
    "ExecuteTime": {
     "end_time": "2023-03-12T18:50:17.494070Z",
     "start_time": "2023-03-12T18:50:17.480416Z"
    }
   },
   "outputs": [],
   "source": [
    "df_pie['labels'] = df_pie['os']+' ('+df_pie['porcentaje'].astype(str)+' %)'"
   ]
  },
  {
   "cell_type": "code",
   "execution_count": 23,
   "id": "7512e709",
   "metadata": {
    "ExecuteTime": {
     "end_time": "2023-03-12T18:50:17.509268Z",
     "start_time": "2023-03-12T18:50:17.496074Z"
    }
   },
   "outputs": [],
   "source": [
    "sizes = list(df_pie['cantidad'])\n",
    "labels = list(df_pie['labels'])"
   ]
  },
  {
   "cell_type": "code",
   "execution_count": 24,
   "id": "2bdd7da2",
   "metadata": {
    "ExecuteTime": {
     "end_time": "2023-03-12T18:50:17.586848Z",
     "start_time": "2023-03-12T18:50:17.511374Z"
    }
   },
   "outputs": [
    {
     "data": {
      "image/png": "[encoded data removed]",
      "text/plain": [
       "<Figure size 432x288 with 1 Axes>"
      ]
     },
     "metadata": {},
     "output_type": "display_data"
    }
   ],
   "source": [
    "pie = plt.pie(sizes, labels=sizes,startangle=90);\n",
    "plt.legend(pie[0],labels, bbox_to_anchor=(1,0.7), loc=\"lower right\", fontsize=10, \n",
    "           bbox_transform=plt.gcf().transFigure)\n",
    "plt.title('Total Operating systems');"
   ]
  },
  {
   "cell_type": "markdown",
   "id": "4fa91583",
   "metadata": {},
   "source": [
    "<a id=\"16\"></a>\n",
    "## Figura completa todos los graficos juntos"
   ]
  },
  {
   "cell_type": "code",
   "execution_count": 25,
   "id": "2ef93786",
   "metadata": {
    "ExecuteTime": {
     "end_time": "2023-03-12T18:50:18.082803Z",
     "start_time": "2023-03-12T18:50:17.589355Z"
    }
   },
   "outputs": [
    {
     "data": {
      "image/png": "[encoded data removed]",
      "text/plain": [
       "<Figure size 1080x720 with 4 Axes>"
      ]
     },
     "metadata": {
      "needs_background": "light"
     },
     "output_type": "display_data"
    }
   ],
   "source": [
    "fig, axs = plt.subplots(2, 2, figsize=(15, 10))\n",
    "\n",
    "# Figura 1(Arriba Izquierda)\n",
    "axs[0, 0].set_title('Type of OS grouped by country')\n",
    "type_os.plot(kind='barh',ax=axs[0,0])\n",
    "\n",
    "# Figura 2 (Abajo Izquierda)\n",
    "grafico = axs[1,0].barh(y=df_hosts_country['country'] , width=df_hosts_country['Number of hosts'],color=sns.color_palette(\"YlGn_r\"));\n",
    "axs[1,0].bar_label(grafico, label_type=\"edge\")\n",
    "axs[1,0].set_title('Total hosts by country')\n",
    "axs[1,0].set_ylabel('Country')\n",
    "axs[1,0].set_xlabel('Number of hosts')\n",
    "\n",
    "# Figura 3 (Abajo Derecha)\n",
    "numero_paises_df.plot(kind='bar',ax=axs[1,1],legend=True)\n",
    "axs[1,1].set_title('Hosts by country grouped by environment')\n",
    "axs[1,1].set_ylabel('Number os hosts')\n",
    "\n",
    "# Figura 4 (Arriba Derecha)\n",
    "pie = axs[0,1].pie(sizes, labels=sizes,startangle=90);\n",
    "axs[0,1].legend(pie[0],labels, bbox_to_anchor=(.95,0.8), loc=\"lower right\", fontsize=10, \n",
    "           bbox_transform=plt.gcf().transFigure)\n",
    "axs[0,1].set_title('Total Operating systems');"
   ]
  }
 ],
 "metadata": {
  "kernelspec": {
   "display_name": "Python 3 (ipykernel)",
   "language": "python",
   "name": "python3"
  },
  "language_info": {
   "codemirror_mode": {
    "name": "ipython",
    "version": 3
   },
   "file_extension": ".py",
   "mimetype": "text/x-python",
   "name": "python",
   "nbconvert_exporter": "python",
   "pygments_lexer": "ipython3",
   "version": "3.9.12"
  },
  "toc": {
   "base_numbering": 1,
   "nav_menu": {},
   "number_sections": true,
   "sideBar": true,
   "skip_h1_title": false,
   "title_cell": "Table of Contents",
   "title_sidebar": "Contents",
   "toc_cell": false,
   "toc_position": {},
   "toc_section_display": true,
   "toc_window_display": false
  },
  "varInspector": {
   "cols": {
    "lenName": 16,
    "lenType": 16,
    "lenVar": 40
   },
   "kernels_config": {
    "python": {
     "delete_cmd_postfix": "",
     "delete_cmd_prefix": "del ",
     "library": "var_list.py",
     "varRefreshCmd": "print(var_dic_list())"
    },
    "r": {
     "delete_cmd_postfix": ") ",
     "delete_cmd_prefix": "rm(",
     "library": "var_list.r",
     "varRefreshCmd": "cat(var_dic_list()) "
    }
   },
   "types_to_exclude": [
    "module",
    "function",
    "builtin_function_or_method",
    "instance",
    "_Feature"
   ],
   "window_display": false
  }
 },
 "nbformat": 4,
 "nbformat_minor": 5
}
